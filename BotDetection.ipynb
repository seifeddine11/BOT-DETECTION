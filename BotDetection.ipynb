{
 "cells": [
  {
   "cell_type": "code",
   "execution_count": 2,
   "metadata": {},
   "outputs": [],
   "source": [
    "### import libraries\n",
    "import pandas as pd\n",
    "import numpy as np\n",
    "import tensorflow as tf\n",
    "\n",
    "## import train/test data\n",
    "df = pd.read_excel('data/data.xlsx', sheet_name='Labelled_Data')\n",
    "df = df[['Tweet Text','Is_Bot ( 1 for Bot / 0 for Human)']]\n",
    "df = df.rename(columns={'Tweet Text': \"tweet\", 'Is_Bot ( 1 for Bot / 0 for Human)': \"target\"})\n",
    "\n",
    "#df2 = pd.read_excel('data/data.xlsx', sheet_name='Test_Data')\n",
    "#df2 = df2[['Tweet Text','Is_Bot ( 1 for Bot / 0 for Human)']]\n",
    "#df2 = df2.rename(columns={'Tweet Text': \"tweet\", 'Is_Bot ( 1 for Bot / 0 for Human)': \"target\"})\n",
    "\n"
   ]
  },
  {
   "cell_type": "code",
   "execution_count": 19,
   "metadata": {},
   "outputs": [],
   "source": [
    "data = pd.read_csv('data/20_Percent_Final-Eval-NOLabels.csv', delimiter = ',')\n",
    "data = data[['Screen Name','Tweet Text']]\n",
    "data = data.rename(columns={'Tweet Text': \"tweet\"})\n"
   ]
  },
  {
   "cell_type": "code",
   "execution_count": 4,
   "metadata": {},
   "outputs": [
    {
     "name": "stderr",
     "output_type": "stream",
     "text": [
      "Using TensorFlow backend.\n"
     ]
    }
   ],
   "source": [
    "sentences_train = df.tweet\n",
    "sentences_test = data.tweet\n",
    "y_train = df.target\n",
    "#y_test = data.\n",
    "\n",
    "from keras.preprocessing.text import Tokenizer\n",
    "from keras.preprocessing.sequence import pad_sequences\n",
    "tokenizer = Tokenizer(num_words=50000)\n",
    "tokenizer.fit_on_texts(sentences_train)\n",
    "vect = tokenizer.texts_to_sequences(data.tweet)\n",
    "vect = pad_sequences(vect, padding='post', maxlen=100)\n",
    "X_train = tokenizer.texts_to_sequences(sentences_train)\n",
    "X_test = tokenizer.texts_to_sequences(sentences_test)\n",
    "vocab_size = len(tokenizer.word_index) + 1\n",
    "\n"
   ]
  },
  {
   "cell_type": "code",
   "execution_count": 5,
   "metadata": {},
   "outputs": [
    {
     "name": "stderr",
     "output_type": "stream",
     "text": [
      "WARNING: Logging before flag parsing goes to stderr.\n",
      "W1002 16:24:07.816340 11048 deprecation_wrapper.py:119] From C:\\Users\\ELYES\\Anaconda3\\lib\\site-packages\\keras\\backend\\tensorflow_backend.py:74: The name tf.get_default_graph is deprecated. Please use tf.compat.v1.get_default_graph instead.\n",
      "\n",
      "W1002 16:24:07.848050 11048 deprecation_wrapper.py:119] From C:\\Users\\ELYES\\Anaconda3\\lib\\site-packages\\keras\\backend\\tensorflow_backend.py:517: The name tf.placeholder is deprecated. Please use tf.compat.v1.placeholder instead.\n",
      "\n",
      "W1002 16:24:07.853025 11048 deprecation_wrapper.py:119] From C:\\Users\\ELYES\\Anaconda3\\lib\\site-packages\\keras\\backend\\tensorflow_backend.py:4138: The name tf.random_uniform is deprecated. Please use tf.random.uniform instead.\n",
      "\n",
      "W1002 16:24:08.077669 11048 deprecation_wrapper.py:119] From C:\\Users\\ELYES\\Anaconda3\\lib\\site-packages\\keras\\backend\\tensorflow_backend.py:133: The name tf.placeholder_with_default is deprecated. Please use tf.compat.v1.placeholder_with_default instead.\n",
      "\n",
      "W1002 16:24:08.091703 11048 deprecation.py:506] From C:\\Users\\ELYES\\Anaconda3\\lib\\site-packages\\keras\\backend\\tensorflow_backend.py:3445: calling dropout (from tensorflow.python.ops.nn_ops) with keep_prob is deprecated and will be removed in a future version.\n",
      "Instructions for updating:\n",
      "Please use `rate` instead of `keep_prob`. Rate should be set to `rate = 1 - keep_prob`.\n",
      "W1002 16:24:08.699512 11048 deprecation_wrapper.py:119] From C:\\Users\\ELYES\\Anaconda3\\lib\\site-packages\\keras\\optimizers.py:790: The name tf.train.Optimizer is deprecated. Please use tf.compat.v1.train.Optimizer instead.\n",
      "\n",
      "W1002 16:24:08.744367 11048 deprecation_wrapper.py:119] From C:\\Users\\ELYES\\Anaconda3\\lib\\site-packages\\keras\\backend\\tensorflow_backend.py:3376: The name tf.log is deprecated. Please use tf.math.log instead.\n",
      "\n",
      "W1002 16:24:08.753410 11048 deprecation.py:323] From C:\\Users\\ELYES\\Anaconda3\\lib\\site-packages\\tensorflow\\python\\ops\\nn_impl.py:180: add_dispatch_support.<locals>.wrapper (from tensorflow.python.ops.array_ops) is deprecated and will be removed in a future version.\n",
      "Instructions for updating:\n",
      "Use tf.where in 2.0, which has the same broadcast rule as np.where\n"
     ]
    },
    {
     "name": "stdout",
     "output_type": "stream",
     "text": [
      "_________________________________________________________________\n",
      "Layer (type)                 Output Shape              Param #   \n",
      "=================================================================\n",
      "embedding_1 (Embedding)      (None, 100, 1000)         38391000  \n",
      "_________________________________________________________________\n",
      "lstm_1 (LSTM)                (None, 64)                272640    \n",
      "_________________________________________________________________\n",
      "dense_1 (Dense)              (None, 1)                 65        \n",
      "=================================================================\n",
      "Total params: 38,663,705\n",
      "Trainable params: 38,663,705\n",
      "Non-trainable params: 0\n",
      "_________________________________________________________________\n"
     ]
    }
   ],
   "source": [
    "#max_len = max([len(i) for i in X_train])\n",
    "#print(max_len)\n",
    "\n",
    "maxlen = 100\n",
    "X_train = pad_sequences(X_train, padding='post', maxlen=maxlen)\n",
    "X_test = pad_sequences(X_test, padding='post', maxlen=maxlen)\n",
    "\n",
    "\n",
    "from keras.models import Sequential\n",
    "from keras import layers\n",
    "from keras.layers import Dense, LSTM\n",
    "\n",
    "embedding_dim = 1000\n",
    "\n",
    "model = Sequential()\n",
    "model.add(layers.Embedding(input_dim=vocab_size,output_dim=embedding_dim,input_length=maxlen))\n",
    "model.add(LSTM(64, dropout=0.3, recurrent_dropout=0.3))\n",
    "model.add(Dense(1, activation='sigmoid'))\n",
    "model.compile(loss='binary_crossentropy', optimizer='adam', metrics=['accuracy'])\n",
    "model.summary()"
   ]
  },
  {
   "cell_type": "code",
   "execution_count": 6,
   "metadata": {},
   "outputs": [],
   "source": [
    "from sklearn.utils import class_weight\n",
    "weights = class_weight.compute_class_weight('balanced', np.unique(y_train), y_train)\n"
   ]
  },
  {
   "cell_type": "code",
   "execution_count": 15,
   "metadata": {},
   "outputs": [
    {
     "name": "stdout",
     "output_type": "stream",
     "text": [
      "Train on 12868 samples, validate on 5516 samples\n",
      "Epoch 1/8\n",
      "12868/12868 [==============================] - 33s 3ms/step - loss: 0.6744 - acc: 0.5976 - val_loss: 0.5317 - val_acc: 1.0000\n",
      "Epoch 2/8\n",
      "12868/12868 [==============================] - 36s 3ms/step - loss: 0.6743 - acc: 0.5976 - val_loss: 0.4807 - val_acc: 1.0000\n",
      "Epoch 3/8\n",
      "12868/12868 [==============================] - 38s 3ms/step - loss: 0.6742 - acc: 0.5976 - val_loss: 0.5156 - val_acc: 1.0000\n",
      "Epoch 4/8\n",
      "12868/12868 [==============================] - 38s 3ms/step - loss: 0.6739 - acc: 0.5985 - val_loss: 0.5133 - val_acc: 1.0000\n",
      "Epoch 5/8\n",
      "12868/12868 [==============================] - 38s 3ms/step - loss: 0.3253 - acc: 0.8879 - val_loss: 0.1080 - val_acc: 0.9839\n",
      "Epoch 6/8\n",
      "12868/12868 [==============================] - 36s 3ms/step - loss: 0.2515 - acc: 0.9292 - val_loss: 0.1349 - val_acc: 0.9868\n",
      "Epoch 7/8\n",
      "12868/12868 [==============================] - 36s 3ms/step - loss: 0.2837 - acc: 0.9133 - val_loss: 0.2026 - val_acc: 0.9873\n",
      "Epoch 8/8\n",
      "12868/12868 [==============================] - 37s 3ms/step - loss: 0.2954 - acc: 0.9063 - val_loss: 0.2261 - val_acc: 0.9909\n"
     ]
    },
    {
     "data": {
      "text/plain": [
       "<keras.callbacks.History at 0x17e396e1b38>"
      ]
     },
     "execution_count": 15,
     "metadata": {},
     "output_type": "execute_result"
    }
   ],
   "source": [
    "## Fit the model\n",
    "model.fit(X_train, y_train,epochs=8, validation_split=0.3, batch_size=128)\n",
    "\n",
    "#model.fit(X_train, y_train, validation_split=0.3, epochs=5,class_weight=weights)"
   ]
  },
  {
   "cell_type": "code",
   "execution_count": 16,
   "metadata": {},
   "outputs": [],
   "source": [
    "data = pd.read_csv('data/20_Percent_Final-Eval-NOLabels.csv', delimiter = ',')\n",
    "data = data[['Tweet ID','Tweet Text']]\n",
    "data = data.rename(columns={'Tweet Text': \"tweet\"})\n",
    "\n"
   ]
  },
  {
   "cell_type": "code",
   "execution_count": 17,
   "metadata": {},
   "outputs": [],
   "source": [
    "## Apply model on sub. Data\n",
    "\n",
    "vect = tokenizer.texts_to_sequences(data.tweet)\n",
    "vect = pad_sequences(vect, padding='post', maxlen=100)\n",
    "\n",
    "prediction = model.predict_classes(vect)\n",
    "\n"
   ]
  },
  {
   "cell_type": "code",
   "execution_count": 20,
   "metadata": {},
   "outputs": [],
   "source": [
    "submission = pd.concat([data['Screen Name'], pd.DataFrame(prediction,columns=['Is_Bot ( 1 for Bot / 0 for Human)'])],axis=1)\n",
    "\n",
    "## Save submission to csv\n",
    "submission.to_csv(\"team_ANLP_submission.csv\", index=False)"
   ]
  },
  {
   "cell_type": "code",
   "execution_count": null,
   "metadata": {},
   "outputs": [],
   "source": []
  }
 ],
 "metadata": {
  "kernelspec": {
   "display_name": "Python 3",
   "language": "python",
   "name": "python3"
  },
  "language_info": {
   "codemirror_mode": {
    "name": "ipython",
    "version": 3
   },
   "file_extension": ".py",
   "mimetype": "text/x-python",
   "name": "python",
   "nbconvert_exporter": "python",
   "pygments_lexer": "ipython3",
   "version": "3.7.3"
  }
 },
 "nbformat": 4,
 "nbformat_minor": 2
}
